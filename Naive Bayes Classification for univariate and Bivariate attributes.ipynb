{
 "cells": [
  {
   "cell_type": "code",
   "execution_count": 48,
   "id": "ac85000a",
   "metadata": {},
   "outputs": [],
   "source": [
    "import numpy as np\n",
    "import pandas  as pd\n",
    "import matplotlib.pyplot as plt\n",
    "from scipy import stats as s"
   ]
  },
  {
   "cell_type": "code",
   "execution_count": 49,
   "id": "d29482d2",
   "metadata": {},
   "outputs": [],
   "source": [
    "data_original = pd.read_csv(\"data.csv\")"
   ]
  },
  {
   "cell_type": "code",
   "execution_count": 50,
   "id": "92d5db79",
   "metadata": {},
   "outputs": [
    {
     "data": {
      "text/html": [
       "<div>\n",
       "<style scoped>\n",
       "    .dataframe tbody tr th:only-of-type {\n",
       "        vertical-align: middle;\n",
       "    }\n",
       "\n",
       "    .dataframe tbody tr th {\n",
       "        vertical-align: top;\n",
       "    }\n",
       "\n",
       "    .dataframe thead th {\n",
       "        text-align: right;\n",
       "    }\n",
       "</style>\n",
       "<table border=\"1\" class=\"dataframe\">\n",
       "  <thead>\n",
       "    <tr style=\"text-align: right;\">\n",
       "      <th></th>\n",
       "      <th>id</th>\n",
       "      <th>diagnosis</th>\n",
       "      <th>radius_mean</th>\n",
       "      <th>texture_mean</th>\n",
       "      <th>perimeter_mean</th>\n",
       "      <th>area_mean</th>\n",
       "      <th>smoothness_mean</th>\n",
       "      <th>compactness_mean</th>\n",
       "      <th>concavity_mean</th>\n",
       "      <th>concave points_mean</th>\n",
       "      <th>...</th>\n",
       "      <th>texture_worst</th>\n",
       "      <th>perimeter_worst</th>\n",
       "      <th>area_worst</th>\n",
       "      <th>smoothness_worst</th>\n",
       "      <th>compactness_worst</th>\n",
       "      <th>concavity_worst</th>\n",
       "      <th>concave points_worst</th>\n",
       "      <th>symmetry_worst</th>\n",
       "      <th>fractal_dimension_worst</th>\n",
       "      <th>Unnamed: 32</th>\n",
       "    </tr>\n",
       "  </thead>\n",
       "  <tbody>\n",
       "    <tr>\n",
       "      <th>0</th>\n",
       "      <td>842302</td>\n",
       "      <td>M</td>\n",
       "      <td>17.99</td>\n",
       "      <td>10.38</td>\n",
       "      <td>122.80</td>\n",
       "      <td>1001.0</td>\n",
       "      <td>0.11840</td>\n",
       "      <td>0.27760</td>\n",
       "      <td>0.3001</td>\n",
       "      <td>0.14710</td>\n",
       "      <td>...</td>\n",
       "      <td>17.33</td>\n",
       "      <td>184.60</td>\n",
       "      <td>2019.0</td>\n",
       "      <td>0.1622</td>\n",
       "      <td>0.6656</td>\n",
       "      <td>0.7119</td>\n",
       "      <td>0.2654</td>\n",
       "      <td>0.4601</td>\n",
       "      <td>0.11890</td>\n",
       "      <td>NaN</td>\n",
       "    </tr>\n",
       "    <tr>\n",
       "      <th>1</th>\n",
       "      <td>842517</td>\n",
       "      <td>M</td>\n",
       "      <td>20.57</td>\n",
       "      <td>17.77</td>\n",
       "      <td>132.90</td>\n",
       "      <td>1326.0</td>\n",
       "      <td>0.08474</td>\n",
       "      <td>0.07864</td>\n",
       "      <td>0.0869</td>\n",
       "      <td>0.07017</td>\n",
       "      <td>...</td>\n",
       "      <td>23.41</td>\n",
       "      <td>158.80</td>\n",
       "      <td>1956.0</td>\n",
       "      <td>0.1238</td>\n",
       "      <td>0.1866</td>\n",
       "      <td>0.2416</td>\n",
       "      <td>0.1860</td>\n",
       "      <td>0.2750</td>\n",
       "      <td>0.08902</td>\n",
       "      <td>NaN</td>\n",
       "    </tr>\n",
       "    <tr>\n",
       "      <th>2</th>\n",
       "      <td>84300903</td>\n",
       "      <td>M</td>\n",
       "      <td>19.69</td>\n",
       "      <td>21.25</td>\n",
       "      <td>130.00</td>\n",
       "      <td>1203.0</td>\n",
       "      <td>0.10960</td>\n",
       "      <td>0.15990</td>\n",
       "      <td>0.1974</td>\n",
       "      <td>0.12790</td>\n",
       "      <td>...</td>\n",
       "      <td>25.53</td>\n",
       "      <td>152.50</td>\n",
       "      <td>1709.0</td>\n",
       "      <td>0.1444</td>\n",
       "      <td>0.4245</td>\n",
       "      <td>0.4504</td>\n",
       "      <td>0.2430</td>\n",
       "      <td>0.3613</td>\n",
       "      <td>0.08758</td>\n",
       "      <td>NaN</td>\n",
       "    </tr>\n",
       "    <tr>\n",
       "      <th>3</th>\n",
       "      <td>84348301</td>\n",
       "      <td>M</td>\n",
       "      <td>11.42</td>\n",
       "      <td>20.38</td>\n",
       "      <td>77.58</td>\n",
       "      <td>386.1</td>\n",
       "      <td>0.14250</td>\n",
       "      <td>0.28390</td>\n",
       "      <td>0.2414</td>\n",
       "      <td>0.10520</td>\n",
       "      <td>...</td>\n",
       "      <td>26.50</td>\n",
       "      <td>98.87</td>\n",
       "      <td>567.7</td>\n",
       "      <td>0.2098</td>\n",
       "      <td>0.8663</td>\n",
       "      <td>0.6869</td>\n",
       "      <td>0.2575</td>\n",
       "      <td>0.6638</td>\n",
       "      <td>0.17300</td>\n",
       "      <td>NaN</td>\n",
       "    </tr>\n",
       "    <tr>\n",
       "      <th>4</th>\n",
       "      <td>84358402</td>\n",
       "      <td>M</td>\n",
       "      <td>20.29</td>\n",
       "      <td>14.34</td>\n",
       "      <td>135.10</td>\n",
       "      <td>1297.0</td>\n",
       "      <td>0.10030</td>\n",
       "      <td>0.13280</td>\n",
       "      <td>0.1980</td>\n",
       "      <td>0.10430</td>\n",
       "      <td>...</td>\n",
       "      <td>16.67</td>\n",
       "      <td>152.20</td>\n",
       "      <td>1575.0</td>\n",
       "      <td>0.1374</td>\n",
       "      <td>0.2050</td>\n",
       "      <td>0.4000</td>\n",
       "      <td>0.1625</td>\n",
       "      <td>0.2364</td>\n",
       "      <td>0.07678</td>\n",
       "      <td>NaN</td>\n",
       "    </tr>\n",
       "  </tbody>\n",
       "</table>\n",
       "<p>5 rows × 33 columns</p>\n",
       "</div>"
      ],
      "text/plain": [
       "         id diagnosis  radius_mean  texture_mean  perimeter_mean  area_mean  \\\n",
       "0    842302         M        17.99         10.38          122.80     1001.0   \n",
       "1    842517         M        20.57         17.77          132.90     1326.0   \n",
       "2  84300903         M        19.69         21.25          130.00     1203.0   \n",
       "3  84348301         M        11.42         20.38           77.58      386.1   \n",
       "4  84358402         M        20.29         14.34          135.10     1297.0   \n",
       "\n",
       "   smoothness_mean  compactness_mean  concavity_mean  concave points_mean  \\\n",
       "0          0.11840           0.27760          0.3001              0.14710   \n",
       "1          0.08474           0.07864          0.0869              0.07017   \n",
       "2          0.10960           0.15990          0.1974              0.12790   \n",
       "3          0.14250           0.28390          0.2414              0.10520   \n",
       "4          0.10030           0.13280          0.1980              0.10430   \n",
       "\n",
       "   ...  texture_worst  perimeter_worst  area_worst  smoothness_worst  \\\n",
       "0  ...          17.33           184.60      2019.0            0.1622   \n",
       "1  ...          23.41           158.80      1956.0            0.1238   \n",
       "2  ...          25.53           152.50      1709.0            0.1444   \n",
       "3  ...          26.50            98.87       567.7            0.2098   \n",
       "4  ...          16.67           152.20      1575.0            0.1374   \n",
       "\n",
       "   compactness_worst  concavity_worst  concave points_worst  symmetry_worst  \\\n",
       "0             0.6656           0.7119                0.2654          0.4601   \n",
       "1             0.1866           0.2416                0.1860          0.2750   \n",
       "2             0.4245           0.4504                0.2430          0.3613   \n",
       "3             0.8663           0.6869                0.2575          0.6638   \n",
       "4             0.2050           0.4000                0.1625          0.2364   \n",
       "\n",
       "   fractal_dimension_worst  Unnamed: 32  \n",
       "0                  0.11890          NaN  \n",
       "1                  0.08902          NaN  \n",
       "2                  0.08758          NaN  \n",
       "3                  0.17300          NaN  \n",
       "4                  0.07678          NaN  \n",
       "\n",
       "[5 rows x 33 columns]"
      ]
     },
     "execution_count": 50,
     "metadata": {},
     "output_type": "execute_result"
    }
   ],
   "source": [
    "data_original.head()"
   ]
  },
  {
   "cell_type": "code",
   "execution_count": 51,
   "id": "0170310b",
   "metadata": {},
   "outputs": [
    {
     "data": {
      "text/plain": [
       "(569, 33)"
      ]
     },
     "execution_count": 51,
     "metadata": {},
     "output_type": "execute_result"
    }
   ],
   "source": [
    "data_original.shape"
   ]
  },
  {
   "cell_type": "code",
   "execution_count": 52,
   "id": "f616a7e3",
   "metadata": {},
   "outputs": [],
   "source": [
    "data_original.drop(columns = [\"id\" , \"Unnamed: 32\"] ,inplace = True)"
   ]
  },
  {
   "cell_type": "code",
   "execution_count": 6,
   "id": "db77a31d",
   "metadata": {},
   "outputs": [
    {
     "ename": "NameError",
     "evalue": "name 'data' is not defined",
     "output_type": "error",
     "traceback": [
      "\u001b[1;31m---------------------------------------------------------------------------\u001b[0m",
      "\u001b[1;31mNameError\u001b[0m                                 Traceback (most recent call last)",
      "\u001b[1;32m<ipython-input-6-6208d269f320>\u001b[0m in \u001b[0;36m<module>\u001b[1;34m\u001b[0m\n\u001b[1;32m----> 1\u001b[1;33m \u001b[0mdata\u001b[0m\u001b[1;33m.\u001b[0m\u001b[0minfo\u001b[0m\u001b[1;33m(\u001b[0m\u001b[1;33m)\u001b[0m\u001b[1;33m\u001b[0m\u001b[1;33m\u001b[0m\u001b[0m\n\u001b[0m",
      "\u001b[1;31mNameError\u001b[0m: name 'data' is not defined"
     ]
    }
   ],
   "source": [
    "data.info()"
   ]
  },
  {
   "cell_type": "code",
   "execution_count": 7,
   "id": "735f07d1",
   "metadata": {},
   "outputs": [],
   "source": [
    "data = data_original.iloc[:,0:3]\n"
   ]
  },
  {
   "cell_type": "code",
   "execution_count": 8,
   "id": "c4e38352",
   "metadata": {},
   "outputs": [
    {
     "name": "stdout",
     "output_type": "stream",
     "text": [
      "<class 'pandas.core.frame.DataFrame'>\n",
      "RangeIndex: 569 entries, 0 to 568\n",
      "Data columns (total 31 columns):\n",
      " #   Column                   Non-Null Count  Dtype  \n",
      "---  ------                   --------------  -----  \n",
      " 0   diagnosis                569 non-null    object \n",
      " 1   radius_mean              569 non-null    float64\n",
      " 2   texture_mean             569 non-null    float64\n",
      " 3   perimeter_mean           569 non-null    float64\n",
      " 4   area_mean                569 non-null    float64\n",
      " 5   smoothness_mean          569 non-null    float64\n",
      " 6   compactness_mean         569 non-null    float64\n",
      " 7   concavity_mean           569 non-null    float64\n",
      " 8   concave points_mean      569 non-null    float64\n",
      " 9   symmetry_mean            569 non-null    float64\n",
      " 10  fractal_dimension_mean   569 non-null    float64\n",
      " 11  radius_se                569 non-null    float64\n",
      " 12  texture_se               569 non-null    float64\n",
      " 13  perimeter_se             569 non-null    float64\n",
      " 14  area_se                  569 non-null    float64\n",
      " 15  smoothness_se            569 non-null    float64\n",
      " 16  compactness_se           569 non-null    float64\n",
      " 17  concavity_se             569 non-null    float64\n",
      " 18  concave points_se        569 non-null    float64\n",
      " 19  symmetry_se              569 non-null    float64\n",
      " 20  fractal_dimension_se     569 non-null    float64\n",
      " 21  radius_worst             569 non-null    float64\n",
      " 22  texture_worst            569 non-null    float64\n",
      " 23  perimeter_worst          569 non-null    float64\n",
      " 24  area_worst               569 non-null    float64\n",
      " 25  smoothness_worst         569 non-null    float64\n",
      " 26  compactness_worst        569 non-null    float64\n",
      " 27  concavity_worst          569 non-null    float64\n",
      " 28  concave points_worst     569 non-null    float64\n",
      " 29  symmetry_worst           569 non-null    float64\n",
      " 30  fractal_dimension_worst  569 non-null    float64\n",
      "dtypes: float64(30), object(1)\n",
      "memory usage: 137.9+ KB\n"
     ]
    }
   ],
   "source": [
    "data_original.info()"
   ]
  },
  {
   "cell_type": "code",
   "execution_count": 9,
   "id": "22d802e9",
   "metadata": {},
   "outputs": [
    {
     "data": {
      "text/plain": [
       "(357, 3)"
      ]
     },
     "execution_count": 9,
     "metadata": {},
     "output_type": "execute_result"
    }
   ],
   "source": [
    "data[data[\"diagnosis\"] == \"B\"].shape"
   ]
  },
  {
   "cell_type": "code",
   "execution_count": 10,
   "id": "114aba04",
   "metadata": {},
   "outputs": [
    {
     "data": {
      "text/plain": [
       "(212, 3)"
      ]
     },
     "execution_count": 10,
     "metadata": {},
     "output_type": "execute_result"
    }
   ],
   "source": [
    "data[data[\"diagnosis\"] == \"M\"].shape"
   ]
  },
  {
   "cell_type": "code",
   "execution_count": 11,
   "id": "54daa3ca",
   "metadata": {},
   "outputs": [
    {
     "data": {
      "text/plain": [
       "398"
      ]
     },
     "execution_count": 11,
     "metadata": {},
     "output_type": "execute_result"
    }
   ],
   "source": [
    "training_data_Len = int(0.7 * data.shape[0])\n",
    "training_data_Len\n"
   ]
  },
  {
   "cell_type": "code",
   "execution_count": 12,
   "id": "f5ceeba1",
   "metadata": {},
   "outputs": [],
   "source": [
    "B_training_data = data[data[\"diagnosis\"] == 'B'].iloc[0:training_data_Len//2]\n",
    "\n",
    "M_training_data = data[data[\"diagnosis\"] == \"M\"].iloc[0:training_data_Len//2]"
   ]
  },
  {
   "cell_type": "code",
   "execution_count": 14,
   "id": "92179b36",
   "metadata": {},
   "outputs": [
    {
     "data": {
      "text/plain": [
       "(199, 3)"
      ]
     },
     "execution_count": 14,
     "metadata": {},
     "output_type": "execute_result"
    }
   ],
   "source": [
    "M_training_data.shape"
   ]
  },
  {
   "cell_type": "code",
   "execution_count": 15,
   "id": "4160ccfb",
   "metadata": {},
   "outputs": [],
   "source": [
    "training_data =  pd.concat([B_training_data,M_training_data] ,axis = 0)"
   ]
  },
  {
   "cell_type": "code",
   "execution_count": 20,
   "id": "489846d3",
   "metadata": {},
   "outputs": [
    {
     "data": {
      "text/plain": [
       "(398, 3)"
      ]
     },
     "execution_count": 20,
     "metadata": {},
     "output_type": "execute_result"
    }
   ],
   "source": [
    "training_data.shape"
   ]
  },
  {
   "cell_type": "code",
   "execution_count": 21,
   "id": "cc16e907",
   "metadata": {},
   "outputs": [],
   "source": [
    "cv_data_len = int(0.2 * data.shape[0])"
   ]
  },
  {
   "cell_type": "code",
   "execution_count": 22,
   "id": "0e890dee",
   "metadata": {},
   "outputs": [
    {
     "data": {
      "text/plain": [
       "113"
      ]
     },
     "execution_count": 22,
     "metadata": {},
     "output_type": "execute_result"
    }
   ],
   "source": [
    "cv_data_len"
   ]
  },
  {
   "cell_type": "code",
   "execution_count": 23,
   "id": "3c5a67ce",
   "metadata": {},
   "outputs": [],
   "source": [
    "B_remaining_data = data[data[\"diagnosis\"] == \"B\"].iloc[training_data_Len//2 : ]\n",
    "    \n",
    "M_reamaining_data = data[data[\"diagnosis\"] == \"M\"].iloc[training_data_Len//2 :]    "
   ]
  },
  {
   "cell_type": "code",
   "execution_count": 24,
   "id": "763e7295",
   "metadata": {},
   "outputs": [
    {
     "data": {
      "text/plain": [
       "(158, 3)"
      ]
     },
     "execution_count": 24,
     "metadata": {},
     "output_type": "execute_result"
    }
   ],
   "source": [
    "B_remaining_data.shape"
   ]
  },
  {
   "cell_type": "code",
   "execution_count": 25,
   "id": "b67201fc",
   "metadata": {},
   "outputs": [
    {
     "data": {
      "text/plain": [
       "(13, 3)"
      ]
     },
     "execution_count": 25,
     "metadata": {},
     "output_type": "execute_result"
    }
   ],
   "source": [
    "M_reamaining_data.shape"
   ]
  },
  {
   "cell_type": "code",
   "execution_count": 26,
   "id": "3c95b9ba",
   "metadata": {},
   "outputs": [],
   "source": [
    "remaining_data = pd.concat([B_remaining_data,M_reamaining_data])"
   ]
  },
  {
   "cell_type": "code",
   "execution_count": 27,
   "id": "b4925535",
   "metadata": {},
   "outputs": [
    {
     "data": {
      "text/plain": [
       "(171, 3)"
      ]
     },
     "execution_count": 27,
     "metadata": {},
     "output_type": "execute_result"
    }
   ],
   "source": [
    "remaining_data.shape"
   ]
  },
  {
   "cell_type": "code",
   "execution_count": 28,
   "id": "2129f17b",
   "metadata": {},
   "outputs": [],
   "source": [
    "cv_data = remaining_data.iloc[0:cv_data_len]\n",
    "\n",
    "testing_data = remaining_data.iloc[cv_data_len:]"
   ]
  },
  {
   "cell_type": "code",
   "execution_count": 29,
   "id": "d4a145e2",
   "metadata": {},
   "outputs": [
    {
     "data": {
      "text/plain": [
       "0"
      ]
     },
     "execution_count": 29,
     "metadata": {},
     "output_type": "execute_result"
    }
   ],
   "source": [
    "np.count_nonzero(cv_data.diagnosis ==\"M\")"
   ]
  },
  {
   "cell_type": "code",
   "execution_count": 30,
   "id": "43307a1a",
   "metadata": {},
   "outputs": [
    {
     "data": {
      "text/plain": [
       "(58, 3)"
      ]
     },
     "execution_count": 30,
     "metadata": {},
     "output_type": "execute_result"
    }
   ],
   "source": [
    "testing_data.shape"
   ]
  },
  {
   "cell_type": "markdown",
   "id": "f6b16e07",
   "metadata": {},
   "source": [
    " so we need to evaluate the following prob : \n",
    "\n",
    "\n",
    "# P(Diagnosis = M | radiusMean = x) ={ P(radiusMean = x | Diagnosis = M)\\dot P(Diaganosis = M)}\n"
   ]
  },
  {
   "cell_type": "code",
   "execution_count": 31,
   "id": "07299b3e",
   "metadata": {},
   "outputs": [],
   "source": [
    "mu_hat_rm = training_data[training_data[\"diagnosis\"] == 'M'][\"radius_mean\"].mean()\n",
    "\n",
    "sigma_hat_rm = training_data[training_data[\"diagnosis\"] == 'M'][\"radius_mean\"].std()"
   ]
  },
  {
   "cell_type": "code",
   "execution_count": 46,
   "id": "f2c2a18b",
   "metadata": {},
   "outputs": [
    {
     "data": {
      "text/plain": [
       "17.35638190954774"
      ]
     },
     "execution_count": 46,
     "metadata": {},
     "output_type": "execute_result"
    }
   ],
   "source": [
    "mu_hat_rm"
   ]
  },
  {
   "cell_type": "code",
   "execution_count": 32,
   "id": "cf2f0a83",
   "metadata": {},
   "outputs": [],
   "source": [
    "M_prior = training_data[training_data[\"diagnosis\"] == \"M\"].shape[0] / training_data.shape[0]\n",
    "\n",
    "B_prior = training_data[training_data[\"diagnosis\"] == \"B\"].shape[0] / training_data.shape[0]"
   ]
  },
  {
   "cell_type": "code",
   "execution_count": 33,
   "id": "c5fe8e16",
   "metadata": {},
   "outputs": [],
   "source": [
    "mu_hat_rb = training_data[training_data[\"diagnosis\"] == 'B'][\"radius_mean\"].mean()\n",
    "\n",
    "sigma_hat_rb = training_data[training_data[\"diagnosis\"] == 'B'][\"radius_mean\"].std()"
   ]
  },
  {
   "cell_type": "code",
   "execution_count": 34,
   "id": "e45c5093",
   "metadata": {},
   "outputs": [],
   "source": [
    "def cv_data_mock_test(cv_data):\n",
    "    \n",
    "    radius_input = np.array(cv_data[\"radius_mean\"])\n",
    "    \n",
    "    posterior_M = s.norm.pdf(radius_input,mu_hat_rm,sigma_hat_rm)*M_prior\n",
    "    \n",
    "    posterior_B = s.norm.pdf(radius_input,mu_hat_rb,sigma_hat_rb)*B_prior\n",
    "    \n",
    "    boolen_Mask = posterior_M > posterior_B\n",
    "    \n",
    "    predicted_cat = pd.Series(boolen_Mask)\n",
    "    \n",
    "    predicted_cat.replace(to_replace=[False,True],value = [\"B\" , \"M\"] ,inplace = True)\n",
    "    \n",
    "    \n",
    "    return np.array(predicted_cat)"
   ]
  },
  {
   "cell_type": "code",
   "execution_count": 37,
   "id": "4a2cadfa",
   "metadata": {
    "scrolled": false
   },
   "outputs": [
    {
     "data": {
      "text/plain": [
       "(113,)"
      ]
     },
     "execution_count": 37,
     "metadata": {},
     "output_type": "execute_result"
    }
   ],
   "source": [
    "cv_result = cv_data_mock_test(cv_data)\n",
    "cv_result.shape"
   ]
  },
  {
   "cell_type": "code",
   "execution_count": 38,
   "id": "2d28f3a1",
   "metadata": {},
   "outputs": [
    {
     "data": {
      "text/plain": [
       "(113,)"
      ]
     },
     "execution_count": 38,
     "metadata": {},
     "output_type": "execute_result"
    }
   ],
   "source": [
    "actual_result = np.array(cv_data[\"diagnosis\"])\n",
    "actual_result.shape"
   ]
  },
  {
   "cell_type": "code",
   "execution_count": 40,
   "id": "17a50ea5",
   "metadata": {},
   "outputs": [
    {
     "data": {
      "text/plain": [
       "array([ True,  True,  True, False,  True,  True, False,  True, False,\n",
       "        True,  True,  True,  True,  True,  True,  True,  True,  True,\n",
       "        True,  True,  True,  True,  True,  True,  True,  True,  True,\n",
       "        True,  True,  True,  True,  True,  True, False,  True,  True,\n",
       "        True,  True,  True, False,  True,  True,  True,  True,  True,\n",
       "       False,  True,  True,  True,  True,  True,  True,  True,  True,\n",
       "        True, False,  True,  True,  True,  True,  True,  True,  True,\n",
       "        True, False, False,  True,  True, False,  True,  True,  True,\n",
       "        True,  True,  True,  True,  True,  True,  True,  True,  True,\n",
       "        True,  True,  True, False,  True,  True,  True,  True,  True,\n",
       "        True,  True,  True,  True,  True, False,  True, False,  True,\n",
       "        True, False,  True,  True, False,  True,  True, False,  True,\n",
       "        True,  True,  True,  True, False])"
      ]
     },
     "execution_count": 40,
     "metadata": {},
     "output_type": "execute_result"
    }
   ],
   "source": [
    "boolen_mask = (cv_result == actual_result)\n",
    "boolen_mask"
   ]
  },
  {
   "cell_type": "code",
   "execution_count": 41,
   "id": "bcdedb95",
   "metadata": {},
   "outputs": [
    {
     "data": {
      "text/plain": [
       "0.8495575221238938"
      ]
     },
     "execution_count": 41,
     "metadata": {},
     "output_type": "execute_result"
    }
   ],
   "source": [
    "accuracy  = np.count_nonzero(boolen_mask)/boolen_mask.shape[0]\n",
    "accuracy"
   ]
  },
  {
   "cell_type": "markdown",
   "id": "2e9dac06",
   "metadata": {},
   "source": [
    "Now Testing on Testing our ALGO on  data and check it`s accuracy"
   ]
  },
  {
   "cell_type": "code",
   "execution_count": 42,
   "id": "980e32eb",
   "metadata": {},
   "outputs": [],
   "source": [
    "def mock_test(data):\n",
    "    \n",
    "    radius_input = np.array(data[\"radius_mean\"])\n",
    "    \n",
    "    posterior_M = s.norm.pdf(radius_input,mu_hat_rm,sigma_hat_rm)*M_prior\n",
    "    \n",
    "    posterior_B = s.norm.pdf(radius_input,mu_hat_rb,sigma_hat_rb)*B_prior\n",
    "    \n",
    "    boolen_Mask = posterior_M > posterior_B\n",
    "    \n",
    "    predicted_cat = pd.Series(boolen_Mask)\n",
    "    \n",
    "    predicted_cat.replace(to_replace=[False,True],value = [\"B\" , \"M\"] ,inplace = True)\n",
    "    \n",
    "    \n",
    "    return np.array(predicted_cat)"
   ]
  },
  {
   "cell_type": "code",
   "execution_count": 43,
   "id": "1a38bb70",
   "metadata": {},
   "outputs": [],
   "source": [
    "testing_result = mock_test(testing_data)"
   ]
  },
  {
   "cell_type": "code",
   "execution_count": 44,
   "id": "863f9102",
   "metadata": {},
   "outputs": [],
   "source": [
    "actual_testing_data = np.array(testing_data[\"diagnosis\"])"
   ]
  },
  {
   "cell_type": "code",
   "execution_count": 45,
   "id": "f379c8c6",
   "metadata": {},
   "outputs": [
    {
     "data": {
      "text/plain": [
       "array(['B', 'M', 'M', 'B', 'B', 'B', 'B', 'B', 'B', 'B', 'B', 'B', 'B',\n",
       "       'B', 'B', 'B', 'B', 'B', 'B', 'B', 'B', 'B', 'B', 'M', 'M', 'B',\n",
       "       'B', 'B', 'B', 'B', 'B', 'B', 'B', 'B', 'B', 'B', 'B', 'B', 'B',\n",
       "       'B', 'M', 'B', 'B', 'B', 'B', 'M', 'M', 'M', 'M', 'M', 'M', 'B',\n",
       "       'M', 'M', 'M', 'M', 'M', 'M'], dtype=object)"
      ]
     },
     "execution_count": 45,
     "metadata": {},
     "output_type": "execute_result"
    }
   ],
   "source": [
    "testing_result"
   ]
  },
  {
   "cell_type": "code",
   "execution_count": 112,
   "id": "d565fc6b",
   "metadata": {},
   "outputs": [],
   "source": [
    "boolen_mask_testing = (testing_result == actual_testing_data )"
   ]
  },
  {
   "cell_type": "code",
   "execution_count": 113,
   "id": "98a02a5e",
   "metadata": {},
   "outputs": [
    {
     "data": {
      "text/plain": [
       "0.896551724137931"
      ]
     },
     "execution_count": 113,
     "metadata": {},
     "output_type": "execute_result"
    }
   ],
   "source": [
    "testing_accuracy = np.count_nonzero(boolen_mask_testing)/testing_data.shape[0]\n",
    "\n",
    "testing_accuracy"
   ]
  },
  {
   "cell_type": "code",
   "execution_count": 114,
   "id": "2a20593b",
   "metadata": {},
   "outputs": [
    {
     "data": {
      "text/html": [
       "<div>\n",
       "<style scoped>\n",
       "    .dataframe tbody tr th:only-of-type {\n",
       "        vertical-align: middle;\n",
       "    }\n",
       "\n",
       "    .dataframe tbody tr th {\n",
       "        vertical-align: top;\n",
       "    }\n",
       "\n",
       "    .dataframe thead th {\n",
       "        text-align: right;\n",
       "    }\n",
       "</style>\n",
       "<table border=\"1\" class=\"dataframe\">\n",
       "  <thead>\n",
       "    <tr style=\"text-align: right;\">\n",
       "      <th></th>\n",
       "      <th>diagnosis</th>\n",
       "      <th>radius_mean</th>\n",
       "      <th>texture_mean</th>\n",
       "    </tr>\n",
       "  </thead>\n",
       "  <tbody>\n",
       "    <tr>\n",
       "      <th>0</th>\n",
       "      <td>M</td>\n",
       "      <td>17.99</td>\n",
       "      <td>10.38</td>\n",
       "    </tr>\n",
       "    <tr>\n",
       "      <th>1</th>\n",
       "      <td>M</td>\n",
       "      <td>20.57</td>\n",
       "      <td>17.77</td>\n",
       "    </tr>\n",
       "    <tr>\n",
       "      <th>2</th>\n",
       "      <td>M</td>\n",
       "      <td>19.69</td>\n",
       "      <td>21.25</td>\n",
       "    </tr>\n",
       "    <tr>\n",
       "      <th>3</th>\n",
       "      <td>M</td>\n",
       "      <td>11.42</td>\n",
       "      <td>20.38</td>\n",
       "    </tr>\n",
       "    <tr>\n",
       "      <th>4</th>\n",
       "      <td>M</td>\n",
       "      <td>20.29</td>\n",
       "      <td>14.34</td>\n",
       "    </tr>\n",
       "    <tr>\n",
       "      <th>...</th>\n",
       "      <td>...</td>\n",
       "      <td>...</td>\n",
       "      <td>...</td>\n",
       "    </tr>\n",
       "    <tr>\n",
       "      <th>564</th>\n",
       "      <td>M</td>\n",
       "      <td>21.56</td>\n",
       "      <td>22.39</td>\n",
       "    </tr>\n",
       "    <tr>\n",
       "      <th>565</th>\n",
       "      <td>M</td>\n",
       "      <td>20.13</td>\n",
       "      <td>28.25</td>\n",
       "    </tr>\n",
       "    <tr>\n",
       "      <th>566</th>\n",
       "      <td>M</td>\n",
       "      <td>16.60</td>\n",
       "      <td>28.08</td>\n",
       "    </tr>\n",
       "    <tr>\n",
       "      <th>567</th>\n",
       "      <td>M</td>\n",
       "      <td>20.60</td>\n",
       "      <td>29.33</td>\n",
       "    </tr>\n",
       "    <tr>\n",
       "      <th>568</th>\n",
       "      <td>B</td>\n",
       "      <td>7.76</td>\n",
       "      <td>24.54</td>\n",
       "    </tr>\n",
       "  </tbody>\n",
       "</table>\n",
       "<p>569 rows × 3 columns</p>\n",
       "</div>"
      ],
      "text/plain": [
       "    diagnosis  radius_mean  texture_mean\n",
       "0           M        17.99         10.38\n",
       "1           M        20.57         17.77\n",
       "2           M        19.69         21.25\n",
       "3           M        11.42         20.38\n",
       "4           M        20.29         14.34\n",
       "..        ...          ...           ...\n",
       "564         M        21.56         22.39\n",
       "565         M        20.13         28.25\n",
       "566         M        16.60         28.08\n",
       "567         M        20.60         29.33\n",
       "568         B         7.76         24.54\n",
       "\n",
       "[569 rows x 3 columns]"
      ]
     },
     "execution_count": 114,
     "metadata": {},
     "output_type": "execute_result"
    }
   ],
   "source": [
    "data = data.iloc[:,0:4]\n",
    "data"
   ]
  },
  {
   "cell_type": "markdown",
   "id": "77d81a62",
   "metadata": {},
   "source": [
    "\\begin{equation}\n",
    "P(Dia = M|radiusMean,textureMean = x) = P(radiusMean = x | Dia = M)\\dot P(textureMean = x | Dia = M)\\dot P(Dia = M)\n",
    "\\end{equation}"
   ]
  },
  {
   "cell_type": "code",
   "execution_count": 120,
   "id": "67c79fa7",
   "metadata": {},
   "outputs": [
    {
     "data": {
      "text/plain": [
       "radius_mean     11.976540\n",
       "texture_mean    17.124798\n",
       "dtype: float64"
      ]
     },
     "execution_count": 120,
     "metadata": {},
     "output_type": "execute_result"
    }
   ],
   "source": [
    "mu_hat_b = training_data[training_data[\"diagnosis\"] == 'B'].iloc[1:].mean()\n",
    "mu_hat_b"
   ]
  },
  {
   "cell_type": "code",
   "execution_count": 53,
   "id": "add4ba90",
   "metadata": {},
   "outputs": [
    {
     "data": {
      "text/plain": [
       "array([[ 2.94091972,  0.15193868],\n",
       "       [ 0.15193868, 11.32885473]])"
      ]
     },
     "execution_count": 53,
     "metadata": {},
     "output_type": "execute_result"
    }
   ],
   "source": [
    "sigma_hat_b = training_data[training_data[\"diagnosis\"] == 'B'].iloc[:,1:].cov()\n",
    "sigma_hat_b_cov = np.array(sigma_hat_b)\n",
    "sigma_hat_b_cov"
   ]
  },
  {
   "cell_type": "code",
   "execution_count": 127,
   "id": "5e8da679",
   "metadata": {},
   "outputs": [
    {
     "data": {
      "text/plain": [
       "array([17.35318182, 21.51772727])"
      ]
     },
     "execution_count": 127,
     "metadata": {},
     "output_type": "execute_result"
    }
   ],
   "source": [
    "mu_hat_m = np.array(training_data[training_data[\"diagnosis\"] == 'M'].iloc[1:].mean())\n",
    "mu_hat_m"
   ]
  },
  {
   "cell_type": "code",
   "execution_count": 129,
   "id": "60818e13",
   "metadata": {},
   "outputs": [
    {
     "data": {
      "text/plain": [
       "array([[ 2.94091972,  0.15193868],\n",
       "       [ 0.15193868, 11.32885473]])"
      ]
     },
     "execution_count": 129,
     "metadata": {},
     "output_type": "execute_result"
    }
   ],
   "source": [
    "sigma_hat_m = training_data[training_data[\"diagnosis\"] == 'M'].iloc[:,1:].cov()\n",
    "sigma_hat_m_cov = np.array(sigma_hat_b)\n",
    "sigma_hat_b_cov"
   ]
  },
  {
   "cell_type": "code",
   "execution_count": 130,
   "id": "611daea5",
   "metadata": {},
   "outputs": [],
   "source": [
    "def multivarate_prob(data):\n",
    "    \n",
    "    inputs = np.array(data.iloc[:,1:3])\n",
    "    \n",
    "    posterior_m = s.multivariate_normal.pdf(inputs,mu_hat_m,sigma_hat_m) * M_prior\n",
    "    \n",
    "    posterior_b  = s.multivariate_normal.pdf(inputs,mu_hat_b,sigma_hat_b) *B_prior\n",
    "    \n",
    "    boolen_mask = posterior_b > posterior_m\n",
    "    \n",
    "    predicted_cat = pd.Series(boolen_mask)\n",
    "    \n",
    "    predicted_cat.replace(to_replace=[False,True] ,value=[\"M\" ,\"B\"],inplace= True)\n",
    "    \n",
    "    return np.array(predicted_cat)"
   ]
  },
  {
   "cell_type": "code",
   "execution_count": 131,
   "id": "53b0fc2e",
   "metadata": {},
   "outputs": [],
   "source": [
    "cv_result_multi = multivarate_prob(cv_data)"
   ]
  },
  {
   "cell_type": "code",
   "execution_count": 140,
   "id": "48fad318",
   "metadata": {},
   "outputs": [],
   "source": [
    "actual_result_multi = np.array(cv_data[\"diagnosis\"])"
   ]
  },
  {
   "cell_type": "code",
   "execution_count": 141,
   "id": "ecbfe464",
   "metadata": {},
   "outputs": [
    {
     "data": {
      "text/plain": [
       "array(['B', 'B', 'B', 'B', 'B', 'B', 'B', 'B', 'B', 'B', 'B', 'B', 'B',\n",
       "       'B', 'B', 'B', 'B', 'B', 'B', 'B', 'B', 'B', 'B', 'B', 'B', 'B',\n",
       "       'B', 'B', 'B', 'B', 'B', 'B', 'B', 'B', 'B', 'B', 'B', 'B', 'B',\n",
       "       'B', 'B', 'B', 'B', 'B', 'B', 'B', 'B', 'B', 'B', 'B', 'B', 'B',\n",
       "       'B', 'B', 'B', 'B', 'B', 'B', 'B', 'B', 'B', 'B', 'B', 'B', 'B',\n",
       "       'B', 'B', 'B', 'B', 'B', 'B', 'B', 'B', 'B', 'B', 'B', 'B', 'B',\n",
       "       'B', 'B', 'B', 'B', 'B', 'B', 'B', 'B', 'B', 'B', 'B', 'B', 'B',\n",
       "       'B', 'B', 'B', 'B', 'B', 'B', 'B', 'B', 'B', 'B', 'B', 'B', 'B',\n",
       "       'B', 'B', 'B', 'B', 'B', 'B', 'B', 'B', 'B'], dtype=object)"
      ]
     },
     "execution_count": 141,
     "metadata": {},
     "output_type": "execute_result"
    }
   ],
   "source": [
    "actual_result_multi"
   ]
  },
  {
   "cell_type": "code",
   "execution_count": 144,
   "id": "694c4ba3",
   "metadata": {},
   "outputs": [
    {
     "data": {
      "text/plain": [
       "array([ True,  True,  True, False,  True,  True,  True,  True, False,\n",
       "        True, False,  True,  True,  True,  True,  True,  True,  True,\n",
       "        True,  True,  True,  True,  True,  True,  True,  True,  True,\n",
       "        True,  True,  True,  True,  True,  True, False,  True,  True,\n",
       "        True,  True,  True, False,  True,  True,  True,  True,  True,\n",
       "        True,  True,  True,  True,  True,  True,  True,  True,  True,\n",
       "        True,  True,  True,  True,  True,  True,  True,  True,  True,\n",
       "        True,  True, False,  True, False,  True,  True, False, False,\n",
       "       False, False, False, False,  True,  True,  True,  True,  True,\n",
       "        True,  True, False,  True, False,  True,  True, False,  True,\n",
       "        True,  True,  True,  True,  True,  True,  True,  True,  True,\n",
       "        True, False,  True,  True, False,  True,  True,  True,  True,\n",
       "        True,  True,  True,  True, False])"
      ]
     },
     "execution_count": 144,
     "metadata": {},
     "output_type": "execute_result"
    }
   ],
   "source": [
    "boolen_mask_multi = (cv_result_multi == actual_result_multi)\n",
    "\n",
    "boolen_mask_multi"
   ]
  },
  {
   "cell_type": "code",
   "execution_count": 146,
   "id": "10e48cfd",
   "metadata": {},
   "outputs": [
    {
     "data": {
      "text/plain": [
       "0.831858407079646"
      ]
     },
     "execution_count": 146,
     "metadata": {},
     "output_type": "execute_result"
    }
   ],
   "source": [
    "testing_accuracy = np.count_nonzero(boolen_mask_multi)/boolen_mask_multi.shape[0]\n",
    "\n",
    "testing_accuracy"
   ]
  },
  {
   "cell_type": "code",
   "execution_count": 148,
   "id": "c6a56e39",
   "metadata": {},
   "outputs": [
    {
     "data": {
      "text/plain": [
       "array(['B', 'B', 'B', 'B', 'B', 'B', 'B', 'B', 'B', 'B', 'B', 'B', 'B',\n",
       "       'B', 'B', 'B', 'B', 'B', 'B', 'B', 'M', 'M', 'B', 'M', 'M', 'M',\n",
       "       'B', 'M', 'B', 'B', 'B', 'B', 'B', 'B', 'M', 'B', 'M', 'M', 'B',\n",
       "       'M', 'M', 'B', 'M', 'M', 'B', 'M', 'M', 'M', 'M', 'M', 'M', 'M',\n",
       "       'M', 'M', 'M', 'M', 'M', 'M'], dtype=object)"
      ]
     },
     "execution_count": 148,
     "metadata": {},
     "output_type": "execute_result"
    }
   ],
   "source": [
    "testing_result_multi = multivarate_prob(testing_data)\n",
    "\n",
    "testing_result_multi"
   ]
  },
  {
   "cell_type": "code",
   "execution_count": 151,
   "id": "afa599fe",
   "metadata": {},
   "outputs": [
    {
     "data": {
      "text/plain": [
       "array(['B', 'B', 'B', 'B', 'B', 'B', 'B', 'B', 'B', 'B', 'B', 'B', 'B',\n",
       "       'B', 'B', 'B', 'B', 'B', 'B', 'B', 'B', 'B', 'B', 'B', 'B', 'B',\n",
       "       'B', 'B', 'B', 'B', 'B', 'B', 'B', 'B', 'B', 'B', 'B', 'B', 'B',\n",
       "       'B', 'B', 'B', 'B', 'B', 'B', 'M', 'M', 'M', 'M', 'M', 'M', 'M',\n",
       "       'M', 'M', 'M', 'M', 'M', 'M'], dtype=object)"
      ]
     },
     "execution_count": 151,
     "metadata": {},
     "output_type": "execute_result"
    }
   ],
   "source": [
    "testing_actual_result = np.array(testing_data[\"diagnosis\"])\n",
    "\n",
    "testing_actual_result"
   ]
  },
  {
   "cell_type": "code",
   "execution_count": 152,
   "id": "1fe8ed26",
   "metadata": {},
   "outputs": [
    {
     "data": {
      "text/plain": [
       "0.7758620689655172"
      ]
     },
     "execution_count": 152,
     "metadata": {},
     "output_type": "execute_result"
    }
   ],
   "source": [
    "testing_accuracy_multi = np.count_nonzero(testing_actual_result ==testing_result_multi) / testing_actual_result.shape[0]\n",
    "\n",
    "testing_accuracy_multi"
   ]
  },
  {
   "cell_type": "markdown",
   "id": "e2556636",
   "metadata": {},
   "source": [
    "# Now we will repeat the same process on full Dataset."
   ]
  },
  {
   "cell_type": "code",
   "execution_count": 47,
   "id": "b4f42fd6",
   "metadata": {},
   "outputs": [
    {
     "data": {
      "text/plain": [
       "array([11.98439698, 17.11090452])"
      ]
     },
     "execution_count": 47,
     "metadata": {},
     "output_type": "execute_result"
    }
   ],
   "source": [
    "mu_hat_b = np.array(training_data[training_data[\"diagnosis\"] == 'B'].mean())\n",
    "mu_hat_b"
   ]
  },
  {
   "cell_type": "code",
   "execution_count": null,
   "id": "68d9b674",
   "metadata": {},
   "outputs": [],
   "source": []
  }
 ],
 "metadata": {
  "kernelspec": {
   "display_name": "Python 3",
   "language": "python",
   "name": "python3"
  },
  "language_info": {
   "codemirror_mode": {
    "name": "ipython",
    "version": 3
   },
   "file_extension": ".py",
   "mimetype": "text/x-python",
   "name": "python",
   "nbconvert_exporter": "python",
   "pygments_lexer": "ipython3",
   "version": "3.8.5"
  }
 },
 "nbformat": 4,
 "nbformat_minor": 5
}
