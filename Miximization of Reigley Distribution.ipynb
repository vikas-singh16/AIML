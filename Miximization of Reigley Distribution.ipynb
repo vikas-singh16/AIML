{
 "cells": [
  {
   "cell_type": "code",
   "execution_count": 82,
   "id": "d0e15e2c",
   "metadata": {},
   "outputs": [],
   "source": []
  },
  {
   "cell_type": "code",
   "execution_count": 1,
   "id": "820e8772",
   "metadata": {},
   "outputs": [],
   "source": [
    "import matplotlib.pyplot as plt\n",
    "import seaborn as sns"
   ]
  },
  {
   "cell_type": "code",
   "execution_count": 2,
   "id": "0ada05db",
   "metadata": {},
   "outputs": [],
   "source": [
    "import numpy as np\n",
    "import scipy.stats as s"
   ]
  },
  {
   "cell_type": "code",
   "execution_count": 23,
   "id": "14c516b9",
   "metadata": {},
   "outputs": [],
   "source": [
    "data = np.random.rayleigh(scale = 7 , size = (40,))"
   ]
  },
  {
   "cell_type": "code",
   "execution_count": 24,
   "id": "b5f8aca3",
   "metadata": {},
   "outputs": [],
   "source": [
    "sigma_initial = np.mean(data)"
   ]
  },
  {
   "cell_type": "code",
   "execution_count": 25,
   "id": "817f0e94",
   "metadata": {},
   "outputs": [
    {
     "data": {
      "text/plain": [
       "array([11.61255562,  6.72919571,  0.90031299,  3.24405232,  8.47951941,\n",
       "        3.42709156,  4.59810253, 15.30922517,  4.06334098,  7.31787021,\n",
       "        5.55804298,  6.56395346,  6.74677151,  3.96454787, 10.85198836,\n",
       "       13.33142254, 14.5598844 ,  6.27033263, 14.72626154,  9.48887443,\n",
       "       13.80471877, 13.42138125,  8.64458294,  9.54285307,  9.88818168,\n",
       "        3.42523117,  7.31595851, 11.39563583,  8.41379568, 16.02947615,\n",
       "       16.0803202 ,  7.48040651,  1.20571513, 10.49613021, 10.84687403,\n",
       "        8.79679723,  5.87522839, 11.81031177,  7.64824093,  9.12142472])"
      ]
     },
     "execution_count": 25,
     "metadata": {},
     "output_type": "execute_result"
    }
   ],
   "source": [
    "data"
   ]
  },
  {
   "cell_type": "code",
   "execution_count": 26,
   "id": "51681e08",
   "metadata": {},
   "outputs": [],
   "source": [
    "def L_prime(sigma_initial,data):\n",
    "    \n",
    "    return np.sum((data**2 - 2*sigma_initial**2) / (sigma_initial**3) )"
   ]
  },
  {
   "cell_type": "code",
   "execution_count": 27,
   "id": "6303a0e6",
   "metadata": {},
   "outputs": [],
   "source": [
    "def L_double_prime(sigma_initial,data):\n",
    "    \n",
    "    return np.sum( ( 2*sigma_initial**2 - 3 * data**2 ) / (sigma_initial**4) )"
   ]
  },
  {
   "cell_type": "code",
   "execution_count": 28,
   "id": "7341f211",
   "metadata": {},
   "outputs": [],
   "source": [
    "def log_like_func(sigma_initial):\n",
    "    \n",
    "    return np.sum(s.rayleigh.logpdf(x= data , scale  = sigma_initial))"
   ]
  },
  {
   "cell_type": "code",
   "execution_count": 29,
   "id": "52e2fb3c",
   "metadata": {},
   "outputs": [
    {
     "name": "stdout",
     "output_type": "stream",
     "text": [
      "The initail value of sigma_initial is : 8.724665260031516 and the maximum value of log likilihood function is -130.8100261974957\n",
      "The initail value of sigma_initial is : 4.493679027603977 and the maximum value of log likilihood function is -116.81697313255589\n",
      "The initail value of sigma_initial is : 5.478659400924872 and the maximum value of log likilihood function is -113.05412633912312\n",
      "The initail value of sigma_initial is : 6.2909104371444045 and the maximum value of log likilihood function is -112.58341830911763\n",
      "The initail value of sigma_initial is : 6.703862549736175 and the maximum value of log likilihood function is -112.57156333055327\n",
      "The initail value of sigma_initial is : 6.783245611016573 and the maximum value of log likilihood function is -112.57155310961977\n",
      "\n",
      "\n",
      "\n",
      " The convergence has been acheived MAxima at be 6.785668178730628 and the maximum log liklihood function be : -112.57155310961977\n"
     ]
    }
   ],
   "source": [
    "episilon = 0.0001\n",
    "\n",
    "while(abs(L_prime(sigma_initial,data)) > episilon):\n",
    "    \n",
    "    sigma_final = sigma_initial - (L_prime(sigma_initial,data) / L_double_prime(sigma_initial,data))\n",
    "    \n",
    "    print(\"The initail value of sigma_initial is : {} and the maximum value of log likilihood function is {}\".format(sigma_initial ,log_like_func(sigma_final)))\n",
    "    \n",
    "    sigma_initial = sigma_final\n",
    "\n",
    "print(\"\\n\\n\\n The convergence has been acheived MAxima at be {} and the maximum log liklihood function be : {}\".format(sigma_initial , log_like_func(sigma_final)) )"
   ]
  },
  {
   "cell_type": "code",
   "execution_count": 30,
   "id": "29514270",
   "metadata": {},
   "outputs": [
    {
     "data": {
      "text/plain": [
       "6.785668178730628"
      ]
     },
     "execution_count": 30,
     "metadata": {},
     "output_type": "execute_result"
    }
   ],
   "source": [
    "sigma_final"
   ]
  },
  {
   "cell_type": "code",
   "execution_count": 32,
   "id": "b4493c44",
   "metadata": {},
   "outputs": [],
   "source": [
    "muve_value = np.sqrt(np.mean(data**2)/2)"
   ]
  },
  {
   "cell_type": "code",
   "execution_count": 33,
   "id": "171e6806",
   "metadata": {},
   "outputs": [
    {
     "data": {
      "text/plain": [
       "6.785670343730048"
      ]
     },
     "execution_count": 33,
     "metadata": {},
     "output_type": "execute_result"
    }
   ],
   "source": [
    "muve_value"
   ]
  }
 ],
 "metadata": {
  "kernelspec": {
   "display_name": "Python 3",
   "language": "python",
   "name": "python3"
  },
  "language_info": {
   "codemirror_mode": {
    "name": "ipython",
    "version": 3
   },
   "file_extension": ".py",
   "mimetype": "text/x-python",
   "name": "python",
   "nbconvert_exporter": "python",
   "pygments_lexer": "ipython3",
   "version": "3.8.5"
  }
 },
 "nbformat": 4,
 "nbformat_minor": 5
}
