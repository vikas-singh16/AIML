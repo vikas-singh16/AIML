{
 "cells": [
  {
   "cell_type": "code",
   "execution_count": 1,
   "id": "78ed09b1",
   "metadata": {},
   "outputs": [],
   "source": [
    "import numpy as np\n",
    "import pandas  as pd\n",
    "import matplotlib.pyplot as plt\n",
    "from scipy import stats as s"
   ]
  },
  {
   "cell_type": "code",
   "execution_count": 2,
   "id": "33bc3da3",
   "metadata": {},
   "outputs": [],
   "source": [
    "data = pd.read_csv(\"data.csv\")"
   ]
  },
  {
   "cell_type": "code",
   "execution_count": 5,
   "id": "94d49e34",
   "metadata": {},
   "outputs": [
    {
     "data": {
      "text/plain": [
       "(569, 33)"
      ]
     },
     "execution_count": 5,
     "metadata": {},
     "output_type": "execute_result"
    }
   ],
   "source": [
    "data.shape\n"
   ]
  },
  {
   "cell_type": "code",
   "execution_count": 7,
   "id": "7d2ae9c0",
   "metadata": {},
   "outputs": [],
   "source": [
    "data.drop(columns = [\"id\" , \"Unnamed: 32\"] ,inplace = True)"
   ]
  },
  {
   "cell_type": "code",
   "execution_count": 8,
   "id": "088c6441",
   "metadata": {},
   "outputs": [
    {
     "data": {
      "text/plain": [
       "(357, 31)"
      ]
     },
     "execution_count": 8,
     "metadata": {},
     "output_type": "execute_result"
    }
   ],
   "source": [
    "data[data[\"diagnosis\"] == \"B\"].shape"
   ]
  },
  {
   "cell_type": "code",
   "execution_count": 9,
   "id": "1fa74b07",
   "metadata": {},
   "outputs": [
    {
     "data": {
      "text/plain": [
       "(212, 31)"
      ]
     },
     "execution_count": 9,
     "metadata": {},
     "output_type": "execute_result"
    }
   ],
   "source": [
    "data[data[\"diagnosis\"] == \"M\"].shape"
   ]
  },
  {
   "cell_type": "code",
   "execution_count": 10,
   "id": "193b6e2c",
   "metadata": {},
   "outputs": [
    {
     "data": {
      "text/plain": [
       "398"
      ]
     },
     "execution_count": 10,
     "metadata": {},
     "output_type": "execute_result"
    }
   ],
   "source": [
    "training_data_Len = int(0.7 * data.shape[0])\n",
    "training_data_Len"
   ]
  },
  {
   "cell_type": "code",
   "execution_count": 11,
   "id": "95c3e4f1",
   "metadata": {},
   "outputs": [],
   "source": [
    "B_training_data = data[data[\"diagnosis\"] == 'B'].iloc[0:training_data_Len//2]\n",
    "\n",
    "M_training_data = data[data[\"diagnosis\"] == \"M\"].iloc[0:training_data_Len//2]"
   ]
  },
  {
   "cell_type": "code",
   "execution_count": 14,
   "id": "e72ac762",
   "metadata": {},
   "outputs": [
    {
     "data": {
      "text/plain": [
       "(199, 31)"
      ]
     },
     "execution_count": 14,
     "metadata": {},
     "output_type": "execute_result"
    }
   ],
   "source": [
    "M_training_data.shape"
   ]
  },
  {
   "cell_type": "code",
   "execution_count": 13,
   "id": "6606280e",
   "metadata": {},
   "outputs": [],
   "source": [
    "training_data =  pd.concat([B_training_data,M_training_data] ,axis = 0)"
   ]
  },
  {
   "cell_type": "code",
   "execution_count": 15,
   "id": "c0044ec2",
   "metadata": {},
   "outputs": [
    {
     "data": {
      "text/plain": [
       "(398, 31)"
      ]
     },
     "execution_count": 15,
     "metadata": {},
     "output_type": "execute_result"
    }
   ],
   "source": [
    "training_data.shape"
   ]
  },
  {
   "cell_type": "code",
   "execution_count": 17,
   "id": "0d517493",
   "metadata": {},
   "outputs": [
    {
     "data": {
      "text/plain": [
       "113"
      ]
     },
     "execution_count": 17,
     "metadata": {},
     "output_type": "execute_result"
    }
   ],
   "source": [
    "cv_data_len = int(0.2 * data.shape[0])\n",
    "cv_data_len"
   ]
  },
  {
   "cell_type": "code",
   "execution_count": 18,
   "id": "c85c2159",
   "metadata": {},
   "outputs": [],
   "source": [
    "B_remaining_data = data[data[\"diagnosis\"] == \"B\"].iloc[training_data_Len//2 : ]\n",
    "    \n",
    "M_reamaining_data = data[data[\"diagnosis\"] == \"M\"].iloc[training_data_Len//2 :]    "
   ]
  },
  {
   "cell_type": "code",
   "execution_count": 19,
   "id": "40482507",
   "metadata": {},
   "outputs": [
    {
     "data": {
      "text/plain": [
       "(158, 31)"
      ]
     },
     "execution_count": 19,
     "metadata": {},
     "output_type": "execute_result"
    }
   ],
   "source": [
    "B_remaining_data.shape"
   ]
  },
  {
   "cell_type": "code",
   "execution_count": 20,
   "id": "07c6802b",
   "metadata": {},
   "outputs": [
    {
     "data": {
      "text/plain": [
       "(13, 31)"
      ]
     },
     "execution_count": 20,
     "metadata": {},
     "output_type": "execute_result"
    }
   ],
   "source": [
    "M_reamaining_data.shape"
   ]
  },
  {
   "cell_type": "code",
   "execution_count": 21,
   "id": "aa60f338",
   "metadata": {},
   "outputs": [],
   "source": [
    "remaining_data = pd.concat([B_remaining_data,M_reamaining_data])"
   ]
  },
  {
   "cell_type": "code",
   "execution_count": 22,
   "id": "f237ce9c",
   "metadata": {},
   "outputs": [
    {
     "data": {
      "text/plain": [
       "(171, 31)"
      ]
     },
     "execution_count": 22,
     "metadata": {},
     "output_type": "execute_result"
    }
   ],
   "source": [
    "remaining_data.shape"
   ]
  },
  {
   "cell_type": "code",
   "execution_count": 24,
   "id": "f6576793",
   "metadata": {},
   "outputs": [
    {
     "data": {
      "text/plain": [
       "array([1.19843970e+01, 1.71109045e+01, 7.69514070e+01, 4.50212563e+02,\n",
       "       9.28012563e-02, 7.74771859e-02, 4.57767472e-02, 2.50231407e-02,\n",
       "       1.75215075e-01, 6.29455276e-02, 2.91945729e-01, 1.21130854e+00,\n",
       "       2.01376985e+00, 2.14023668e+01, 7.34034673e-03, 2.14668643e-02,\n",
       "       2.68529432e-02, 1.00206181e-02, 2.18462261e-02, 3.74105678e-03,\n",
       "       1.31722864e+01, 2.23857286e+01, 8.53800000e+01, 5.41368844e+02,\n",
       "       1.24279497e-01, 1.71125829e-01, 1.57116915e-01, 7.08428191e-02,\n",
       "       2.71169849e-01, 7.85500503e-02])"
      ]
     },
     "execution_count": 24,
     "metadata": {},
     "output_type": "execute_result"
    }
   ],
   "source": [
    "mu_hat_b = np.array(training_data[training_data[\"diagnosis\"] == 'B'].iloc[:,1:].mean())\n",
    "mu_hat_b"
   ]
  },
  {
   "cell_type": "code",
   "execution_count": 26,
   "id": "0f851671",
   "metadata": {},
   "outputs": [
    {
     "data": {
      "text/plain": [
       "(30, 30)"
      ]
     },
     "execution_count": 26,
     "metadata": {},
     "output_type": "execute_result"
    }
   ],
   "source": [
    "sigma_hat_b = np.array(training_data[training_data[\"diagnosis\"] == 'B'].iloc[:,1:].cov())\n",
    "sigma_hat_b.shape"
   ]
  },
  {
   "cell_type": "code",
   "execution_count": 31,
   "id": "b61f0039",
   "metadata": {},
   "outputs": [
    {
     "data": {
      "text/plain": [
       "1.3582567523082033e-76"
      ]
     },
     "execution_count": 31,
     "metadata": {},
     "output_type": "execute_result"
    }
   ],
   "source": [
    "np.linalg.det(sigma_hat_b)"
   ]
  },
  {
   "cell_type": "code",
   "execution_count": 32,
   "id": "7e2e07f0",
   "metadata": {},
   "outputs": [
    {
     "data": {
      "text/plain": [
       "array([2.94091972e+00, 1.13288547e+01, 1.28577764e+02, 1.60340024e+04,\n",
       "       1.59580656e-04, 1.12158981e-03, 2.48804537e-03, 2.68474522e-04,\n",
       "       6.84821186e-04, 4.54429147e-05, 1.38731442e-02, 3.36939014e-01,\n",
       "       6.15979077e-01, 8.64088828e+01, 9.71364606e-06, 3.30205927e-04,\n",
       "       1.58704044e-03, 4.00534040e-05, 6.08239742e-05, 1.18392359e-05,\n",
       "       3.72826867e+00, 2.38599408e+01, 1.73844674e+02, 2.42578726e+04,\n",
       "       3.79521510e-04, 8.60889580e-03, 2.40571051e-02, 1.31268101e-03,\n",
       "       1.98506737e-03, 1.87929964e-04])"
      ]
     },
     "execution_count": 32,
     "metadata": {},
     "output_type": "execute_result"
    }
   ],
   "source": [
    "sigma_hat_b.()"
   ]
  },
  {
   "cell_type": "code",
   "execution_count": 33,
   "id": "04da7749",
   "metadata": {},
   "outputs": [
    {
     "data": {
      "text/plain": [
       "30"
      ]
     },
     "execution_count": 33,
     "metadata": {},
     "output_type": "execute_result"
    }
   ],
   "source": [
    "np.linalg.matrix_rank(sigma_hat_b)"
   ]
  },
  {
   "cell_type": "code",
   "execution_count": null,
   "id": "ef003a25",
   "metadata": {},
   "outputs": [],
   "source": [
    "np.linalg. "
   ]
  },
  {
   "cell_type": "code",
   "execution_count": 27,
   "id": "0884d749",
   "metadata": {},
   "outputs": [
    {
     "data": {
      "text/plain": [
       "array([1.73531818e+01, 2.15177273e+01, 1.14577424e+02, 9.66879293e+02,\n",
       "       1.02851616e-01, 1.43931010e-01, 1.57924091e-01, 8.66106061e-02,\n",
       "       1.92612626e-01, 6.26596465e-02, 6.03631313e-01, 1.20564091e+00,\n",
       "       4.27560606e+00, 7.17526263e+01, 6.84155556e-03, 3.22116010e-02,\n",
       "       4.14066162e-02, 1.49975101e-02, 2.06213081e-02, 4.06116162e-03,\n",
       "       2.10283838e+01, 2.92647475e+01, 1.40439444e+02, 1.40978990e+03,\n",
       "       1.45464091e-01, 3.73496010e-01, 4.45720606e-01, 1.81332374e-01,\n",
       "       3.24817677e-01, 9.16505051e-02])"
      ]
     },
     "execution_count": 27,
     "metadata": {},
     "output_type": "execute_result"
    }
   ],
   "source": [
    "mu_hat_m = np.array(training_data[training_data[\"diagnosis\"] == 'M'].iloc[1:].mean())\n",
    "mu_hat_m"
   ]
  },
  {
   "cell_type": "code",
   "execution_count": 30,
   "id": "da6f0ea8",
   "metadata": {},
   "outputs": [
    {
     "data": {
      "text/plain": [
       "(30, 30)"
      ]
     },
     "execution_count": 30,
     "metadata": {},
     "output_type": "execute_result"
    }
   ],
   "source": [
    "sigma_hat_m = np.array(training_data[training_data[\"diagnosis\"] == 'M'].iloc[:,1:].cov() )\n",
    "sigma_hat_m.shape"
   ]
  },
  {
   "cell_type": "code",
   "execution_count": null,
   "id": "39823a00",
   "metadata": {},
   "outputs": [],
   "source": [
    "def multivarate_prob(data):\n",
    "    \n",
    "    inputs = np.array(data.iloc[:,1:3])\n",
    "    \n",
    "    posterior_m = s.multivariate_normal.pdf(inputs,mu_hat_m,sigma_hat_m) * M_prior\n",
    "    \n",
    "    posterior_b  = s.multivariate_normal.pdf(inputs,mu_hat_b,sigma_hat_b) *B_prior\n",
    "    \n",
    "    boolen_mask = posterior_b > posterior_m\n",
    "    \n",
    "    predicted_cat = pd.Series(boolen_mask)\n",
    "    \n",
    "    predicted_cat.replace(to_replace=[False,True] ,value=[\"M\" ,\"B\"],inplace= True)\n",
    "    \n",
    "    return np.array(predicted_cat)"
   ]
  }
 ],
 "metadata": {
  "kernelspec": {
   "display_name": "Python 3",
   "language": "python",
   "name": "python3"
  },
  "language_info": {
   "codemirror_mode": {
    "name": "ipython",
    "version": 3
   },
   "file_extension": ".py",
   "mimetype": "text/x-python",
   "name": "python",
   "nbconvert_exporter": "python",
   "pygments_lexer": "ipython3",
   "version": "3.8.5"
  }
 },
 "nbformat": 4,
 "nbformat_minor": 5
}
